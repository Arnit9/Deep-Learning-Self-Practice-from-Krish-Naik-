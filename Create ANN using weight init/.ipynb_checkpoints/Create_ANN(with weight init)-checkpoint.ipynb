{
 "cells": [
  {
   "cell_type": "code",
   "execution_count": 1,
   "id": "5cd11b33-90dc-44c4-a2e6-e61c4b2e1dbc",
   "metadata": {},
   "outputs": [],
   "source": [
    "# Part 1 - Data Preprocessing\n",
    "\n",
    "# Importing the libraries\n",
    "import numpy as np\n",
    "import matplotlib.pyplot as plt\n",
    "import pandas as pd\n",
    "from sklearn.model_selection import train_test_split\n",
    "from sklearn.preprocessing import StandardScaler\n",
    "\n",
    "# Importing the Keras libraries and packages\n",
    "import keras\n",
    "from keras.models import Sequential\n",
    "from keras.layers import Dense\n",
    "from keras.layers import LeakyReLU,PReLU,ELU\n",
    "from keras.layers import Dropout"
   ]
  },
  {
   "cell_type": "code",
   "execution_count": 2,
   "id": "b9cbca56-9706-4f89-9c19-753a79c2d04c",
   "metadata": {},
   "outputs": [],
   "source": [
    "# Importing the dataset\n",
    "dataset = pd.read_csv('Churn_Modelling.csv')\n",
    "X = dataset.iloc[:, 3:13]\n",
    "y = dataset.iloc[:, 13]"
   ]
  },
  {
   "cell_type": "code",
   "execution_count": 3,
   "id": "2d833833-c4f0-47e6-9c7d-42b77046d300",
   "metadata": {},
   "outputs": [],
   "source": [
    "#Create dummy variables\n",
    "geography=pd.get_dummies(X[\"Geography\"],drop_first=True)\n",
    "gender=pd.get_dummies(X['Gender'],drop_first=True)"
   ]
  },
  {
   "cell_type": "code",
   "execution_count": 4,
   "id": "cbe754db-7c79-4291-b7d4-7bd455c8b54f",
   "metadata": {},
   "outputs": [],
   "source": [
    "# Concatenate the Data Frames\n",
    "X=pd.concat([X,geography,gender],axis=1)\n",
    "\n",
    "# Drop Unnecessary columns\n",
    "X=X.drop(['Geography','Gender'],axis=1)\n",
    "\n",
    "# Splitting the dataset into the Training set and Test set\n",
    "X_train, X_test, y_train, y_test = train_test_split(X, y, test_size = 0.2, random_state = 0)\n",
    "\n",
    "# Feature Scaling\n",
    "sc = StandardScaler()\n",
    "X_train = sc.fit_transform(X_train)\n",
    "X_test = sc.transform(X_test)"
   ]
  },
  {
   "cell_type": "code",
   "execution_count": 5,
   "id": "8f9e89e9-2180-459d-acd8-4c1b3b5e769d",
   "metadata": {},
   "outputs": [
    {
     "name": "stdout",
     "output_type": "stream",
     "text": [
      "Epoch 1/100\n",
      "536/536 [==============================] - 1s 1ms/step - loss: 0.6536 - accuracy: 0.6214 - val_loss: 0.5568 - val_accuracy: 0.7459\n",
      "Epoch 2/100\n",
      "536/536 [==============================] - 1s 1ms/step - loss: 0.5288 - accuracy: 0.7828 - val_loss: 0.5009 - val_accuracy: 0.7846\n",
      "Epoch 3/100\n",
      "536/536 [==============================] - 1s 1ms/step - loss: 0.4886 - accuracy: 0.8046 - val_loss: 0.4772 - val_accuracy: 0.7944\n",
      "Epoch 4/100\n",
      "536/536 [==============================] - 1s 1ms/step - loss: 0.4680 - accuracy: 0.8087 - val_loss: 0.4636 - val_accuracy: 0.8008\n",
      "Epoch 5/100\n",
      "536/536 [==============================] - 1s 1ms/step - loss: 0.4547 - accuracy: 0.8117 - val_loss: 0.4546 - val_accuracy: 0.7989\n",
      "Epoch 6/100\n",
      "536/536 [==============================] - 1s 1ms/step - loss: 0.4451 - accuracy: 0.8121 - val_loss: 0.4486 - val_accuracy: 0.8023\n",
      "Epoch 7/100\n",
      "536/536 [==============================] - 1s 1ms/step - loss: 0.4384 - accuracy: 0.8149 - val_loss: 0.4447 - val_accuracy: 0.8027\n",
      "Epoch 8/100\n",
      "536/536 [==============================] - 1s 1ms/step - loss: 0.4337 - accuracy: 0.8149 - val_loss: 0.4415 - val_accuracy: 0.8012\n",
      "Epoch 9/100\n",
      "536/536 [==============================] - 1s 1ms/step - loss: 0.4299 - accuracy: 0.8156 - val_loss: 0.4388 - val_accuracy: 0.8058\n",
      "Epoch 10/100\n",
      "536/536 [==============================] - 1s 1ms/step - loss: 0.4269 - accuracy: 0.8156 - val_loss: 0.4368 - val_accuracy: 0.8065\n",
      "Epoch 11/100\n",
      "536/536 [==============================] - 1s 1ms/step - loss: 0.4240 - accuracy: 0.8166 - val_loss: 0.4347 - val_accuracy: 0.8061\n",
      "Epoch 12/100\n",
      "536/536 [==============================] - 1s 1ms/step - loss: 0.4215 - accuracy: 0.8164 - val_loss: 0.4329 - val_accuracy: 0.8054\n",
      "Epoch 13/100\n",
      "536/536 [==============================] - 1s 1ms/step - loss: 0.4192 - accuracy: 0.8184 - val_loss: 0.4309 - val_accuracy: 0.8069\n",
      "Epoch 14/100\n",
      "536/536 [==============================] - 1s 1ms/step - loss: 0.4167 - accuracy: 0.8179 - val_loss: 0.4289 - val_accuracy: 0.8065\n",
      "Epoch 15/100\n",
      "536/536 [==============================] - 1s 1ms/step - loss: 0.4144 - accuracy: 0.8184 - val_loss: 0.4267 - val_accuracy: 0.8058\n",
      "Epoch 16/100\n",
      "536/536 [==============================] - 1s 1ms/step - loss: 0.4118 - accuracy: 0.8190 - val_loss: 0.4245 - val_accuracy: 0.8050\n",
      "Epoch 17/100\n",
      "536/536 [==============================] - 1s 1ms/step - loss: 0.4094 - accuracy: 0.8207 - val_loss: 0.4223 - val_accuracy: 0.8061\n",
      "Epoch 18/100\n",
      "536/536 [==============================] - 1s 1ms/step - loss: 0.4068 - accuracy: 0.8220 - val_loss: 0.4202 - val_accuracy: 0.8073\n",
      "Epoch 19/100\n",
      "536/536 [==============================] - 1s 1ms/step - loss: 0.4042 - accuracy: 0.8246 - val_loss: 0.4179 - val_accuracy: 0.8088\n",
      "Epoch 20/100\n",
      "536/536 [==============================] - 1s 1ms/step - loss: 0.4017 - accuracy: 0.8257 - val_loss: 0.4157 - val_accuracy: 0.8095\n",
      "Epoch 21/100\n",
      "536/536 [==============================] - 1s 1ms/step - loss: 0.3989 - accuracy: 0.8272 - val_loss: 0.4134 - val_accuracy: 0.8118\n",
      "Epoch 22/100\n",
      "536/536 [==============================] - 1s 1ms/step - loss: 0.3961 - accuracy: 0.8274 - val_loss: 0.4106 - val_accuracy: 0.8114\n",
      "Epoch 23/100\n",
      "536/536 [==============================] - 1s 1ms/step - loss: 0.3929 - accuracy: 0.8283 - val_loss: 0.4079 - val_accuracy: 0.8114\n",
      "Epoch 24/100\n",
      "536/536 [==============================] - 1s 1ms/step - loss: 0.3898 - accuracy: 0.8296 - val_loss: 0.4054 - val_accuracy: 0.8133\n",
      "Epoch 25/100\n",
      "536/536 [==============================] - 1s 1ms/step - loss: 0.3864 - accuracy: 0.8321 - val_loss: 0.4025 - val_accuracy: 0.8141\n",
      "Epoch 26/100\n",
      "536/536 [==============================] - 1s 1ms/step - loss: 0.3831 - accuracy: 0.8330 - val_loss: 0.3999 - val_accuracy: 0.8175\n",
      "Epoch 27/100\n",
      "536/536 [==============================] - 1s 1ms/step - loss: 0.3802 - accuracy: 0.8349 - val_loss: 0.3975 - val_accuracy: 0.8190\n",
      "Epoch 28/100\n",
      "536/536 [==============================] - 1s 1ms/step - loss: 0.3773 - accuracy: 0.8365 - val_loss: 0.3954 - val_accuracy: 0.8179\n",
      "Epoch 29/100\n",
      "536/536 [==============================] - 1s 1ms/step - loss: 0.3745 - accuracy: 0.8401 - val_loss: 0.3923 - val_accuracy: 0.8262\n",
      "Epoch 30/100\n",
      "536/536 [==============================] - 1s 1ms/step - loss: 0.3718 - accuracy: 0.8425 - val_loss: 0.3903 - val_accuracy: 0.8258\n",
      "Epoch 31/100\n",
      "536/536 [==============================] - 1s 1ms/step - loss: 0.3692 - accuracy: 0.8427 - val_loss: 0.3878 - val_accuracy: 0.8258\n",
      "Epoch 32/100\n",
      "536/536 [==============================] - 1s 1ms/step - loss: 0.3668 - accuracy: 0.8455 - val_loss: 0.3857 - val_accuracy: 0.8285\n",
      "Epoch 33/100\n",
      "536/536 [==============================] - 1s 1ms/step - loss: 0.3642 - accuracy: 0.8468 - val_loss: 0.3831 - val_accuracy: 0.8323\n",
      "Epoch 34/100\n",
      "536/536 [==============================] - 1s 1ms/step - loss: 0.3620 - accuracy: 0.8479 - val_loss: 0.3814 - val_accuracy: 0.8319\n",
      "Epoch 35/100\n",
      "536/536 [==============================] - 1s 1ms/step - loss: 0.3599 - accuracy: 0.8507 - val_loss: 0.3794 - val_accuracy: 0.8345\n",
      "Epoch 36/100\n",
      "536/536 [==============================] - 1s 1ms/step - loss: 0.3576 - accuracy: 0.8503 - val_loss: 0.3777 - val_accuracy: 0.8376\n",
      "Epoch 37/100\n",
      "536/536 [==============================] - 1s 1ms/step - loss: 0.3557 - accuracy: 0.8518 - val_loss: 0.3762 - val_accuracy: 0.8410\n",
      "Epoch 38/100\n",
      "536/536 [==============================] - 1s 1ms/step - loss: 0.3539 - accuracy: 0.8546 - val_loss: 0.3740 - val_accuracy: 0.8421\n",
      "Epoch 39/100\n",
      "536/536 [==============================] - 1s 1ms/step - loss: 0.3521 - accuracy: 0.8543 - val_loss: 0.3721 - val_accuracy: 0.8459\n",
      "Epoch 40/100\n",
      "536/536 [==============================] - 1s 1ms/step - loss: 0.3508 - accuracy: 0.8554 - val_loss: 0.3710 - val_accuracy: 0.8436\n",
      "Epoch 41/100\n",
      "536/536 [==============================] - 1s 1ms/step - loss: 0.3490 - accuracy: 0.8552 - val_loss: 0.3698 - val_accuracy: 0.8440\n",
      "Epoch 42/100\n",
      "536/536 [==============================] - 1s 1ms/step - loss: 0.3478 - accuracy: 0.8565 - val_loss: 0.3691 - val_accuracy: 0.8436\n",
      "Epoch 43/100\n",
      "536/536 [==============================] - 1s 1ms/step - loss: 0.3466 - accuracy: 0.8558 - val_loss: 0.3680 - val_accuracy: 0.8448\n",
      "Epoch 44/100\n",
      "536/536 [==============================] - 1s 1ms/step - loss: 0.3457 - accuracy: 0.8565 - val_loss: 0.3672 - val_accuracy: 0.8451\n",
      "Epoch 45/100\n",
      "536/536 [==============================] - 1s 1ms/step - loss: 0.3447 - accuracy: 0.8597 - val_loss: 0.3655 - val_accuracy: 0.8485\n",
      "Epoch 46/100\n",
      "536/536 [==============================] - 1s 1ms/step - loss: 0.3436 - accuracy: 0.8600 - val_loss: 0.3651 - val_accuracy: 0.8474\n",
      "Epoch 47/100\n",
      "536/536 [==============================] - 1s 1ms/step - loss: 0.3427 - accuracy: 0.8608 - val_loss: 0.3641 - val_accuracy: 0.8497\n",
      "Epoch 48/100\n",
      "536/536 [==============================] - 1s 1ms/step - loss: 0.3420 - accuracy: 0.8593 - val_loss: 0.3640 - val_accuracy: 0.8451\n",
      "Epoch 49/100\n",
      "536/536 [==============================] - 1s 1ms/step - loss: 0.3413 - accuracy: 0.8595 - val_loss: 0.3631 - val_accuracy: 0.8493\n",
      "Epoch 50/100\n",
      "536/536 [==============================] - 1s 1ms/step - loss: 0.3406 - accuracy: 0.8604 - val_loss: 0.3631 - val_accuracy: 0.8482\n",
      "Epoch 51/100\n",
      "536/536 [==============================] - 1s 1ms/step - loss: 0.3397 - accuracy: 0.8591 - val_loss: 0.3624 - val_accuracy: 0.8516\n",
      "Epoch 52/100\n",
      "536/536 [==============================] - 1s 1ms/step - loss: 0.3389 - accuracy: 0.8608 - val_loss: 0.3631 - val_accuracy: 0.8482\n",
      "Epoch 53/100\n",
      "536/536 [==============================] - 1s 1ms/step - loss: 0.3386 - accuracy: 0.8597 - val_loss: 0.3613 - val_accuracy: 0.8523\n",
      "Epoch 54/100\n",
      "536/536 [==============================] - 1s 1ms/step - loss: 0.3383 - accuracy: 0.8606 - val_loss: 0.3612 - val_accuracy: 0.8508\n",
      "Epoch 55/100\n",
      "536/536 [==============================] - 1s 1ms/step - loss: 0.3378 - accuracy: 0.8602 - val_loss: 0.3608 - val_accuracy: 0.8516\n",
      "Epoch 56/100\n",
      "536/536 [==============================] - 1s 1ms/step - loss: 0.3373 - accuracy: 0.8600 - val_loss: 0.3611 - val_accuracy: 0.8516\n",
      "Epoch 57/100\n",
      "536/536 [==============================] - 1s 1ms/step - loss: 0.3370 - accuracy: 0.8604 - val_loss: 0.3603 - val_accuracy: 0.8531\n",
      "Epoch 58/100\n",
      "536/536 [==============================] - 1s 1ms/step - loss: 0.3366 - accuracy: 0.8600 - val_loss: 0.3599 - val_accuracy: 0.8542\n",
      "Epoch 59/100\n",
      "536/536 [==============================] - 1s 1ms/step - loss: 0.3363 - accuracy: 0.8595 - val_loss: 0.3599 - val_accuracy: 0.8519\n",
      "Epoch 60/100\n",
      "536/536 [==============================] - 1s 1ms/step - loss: 0.3358 - accuracy: 0.8602 - val_loss: 0.3599 - val_accuracy: 0.8523\n",
      "Epoch 61/100\n",
      "536/536 [==============================] - 1s 1ms/step - loss: 0.3356 - accuracy: 0.8599 - val_loss: 0.3597 - val_accuracy: 0.8535\n",
      "Epoch 62/100\n",
      "536/536 [==============================] - 1s 1ms/step - loss: 0.3352 - accuracy: 0.8604 - val_loss: 0.3590 - val_accuracy: 0.8542\n",
      "Epoch 63/100\n",
      "536/536 [==============================] - 1s 1ms/step - loss: 0.3348 - accuracy: 0.8597 - val_loss: 0.3587 - val_accuracy: 0.8561\n",
      "Epoch 64/100\n",
      "536/536 [==============================] - 1s 1ms/step - loss: 0.3345 - accuracy: 0.8591 - val_loss: 0.3581 - val_accuracy: 0.8546\n",
      "Epoch 65/100\n",
      "536/536 [==============================] - 1s 1ms/step - loss: 0.3342 - accuracy: 0.8606 - val_loss: 0.3585 - val_accuracy: 0.8569\n",
      "Epoch 66/100\n",
      "536/536 [==============================] - 1s 1ms/step - loss: 0.3338 - accuracy: 0.8608 - val_loss: 0.3581 - val_accuracy: 0.8584\n",
      "Epoch 67/100\n",
      "536/536 [==============================] - 1s 1ms/step - loss: 0.3337 - accuracy: 0.8599 - val_loss: 0.3574 - val_accuracy: 0.8557\n",
      "Epoch 68/100\n",
      "536/536 [==============================] - 1s 1ms/step - loss: 0.3332 - accuracy: 0.8604 - val_loss: 0.3577 - val_accuracy: 0.8573\n",
      "Epoch 69/100\n",
      "536/536 [==============================] - 1s 1ms/step - loss: 0.3331 - accuracy: 0.8600 - val_loss: 0.3573 - val_accuracy: 0.8557\n",
      "Epoch 70/100\n",
      "536/536 [==============================] - 1s 1ms/step - loss: 0.3328 - accuracy: 0.8606 - val_loss: 0.3573 - val_accuracy: 0.8569\n",
      "Epoch 71/100\n",
      "536/536 [==============================] - 1s 1ms/step - loss: 0.3325 - accuracy: 0.8606 - val_loss: 0.3567 - val_accuracy: 0.8573\n",
      "Epoch 72/100\n",
      "536/536 [==============================] - 1s 1ms/step - loss: 0.3323 - accuracy: 0.8615 - val_loss: 0.3572 - val_accuracy: 0.8584\n",
      "Epoch 73/100\n",
      "536/536 [==============================] - 1s 1ms/step - loss: 0.3320 - accuracy: 0.8602 - val_loss: 0.3566 - val_accuracy: 0.8576\n",
      "Epoch 74/100\n",
      "536/536 [==============================] - 1s 1ms/step - loss: 0.3317 - accuracy: 0.8602 - val_loss: 0.3562 - val_accuracy: 0.8588\n",
      "Epoch 75/100\n",
      "536/536 [==============================] - 1s 1ms/step - loss: 0.3317 - accuracy: 0.8591 - val_loss: 0.3564 - val_accuracy: 0.8580\n",
      "Epoch 76/100\n",
      "536/536 [==============================] - 1s 1ms/step - loss: 0.3314 - accuracy: 0.8595 - val_loss: 0.3561 - val_accuracy: 0.8573\n",
      "Epoch 77/100\n",
      "536/536 [==============================] - 1s 1ms/step - loss: 0.3313 - accuracy: 0.8587 - val_loss: 0.3568 - val_accuracy: 0.8584\n",
      "Epoch 78/100\n",
      "536/536 [==============================] - 1s 1ms/step - loss: 0.3312 - accuracy: 0.8604 - val_loss: 0.3557 - val_accuracy: 0.8576\n",
      "Epoch 79/100\n",
      "536/536 [==============================] - 1s 1ms/step - loss: 0.3310 - accuracy: 0.8610 - val_loss: 0.3554 - val_accuracy: 0.8580\n",
      "Epoch 80/100\n",
      "536/536 [==============================] - 1s 1ms/step - loss: 0.3309 - accuracy: 0.8606 - val_loss: 0.3560 - val_accuracy: 0.8580\n",
      "Epoch 81/100\n",
      "536/536 [==============================] - 1s 1ms/step - loss: 0.3307 - accuracy: 0.8610 - val_loss: 0.3552 - val_accuracy: 0.8584\n",
      "Epoch 82/100\n",
      "536/536 [==============================] - 1s 1ms/step - loss: 0.3305 - accuracy: 0.8586 - val_loss: 0.3559 - val_accuracy: 0.8580\n",
      "Epoch 83/100\n",
      "536/536 [==============================] - 1s 1ms/step - loss: 0.3304 - accuracy: 0.8606 - val_loss: 0.3558 - val_accuracy: 0.8591\n",
      "Epoch 84/100\n",
      "536/536 [==============================] - 1s 1ms/step - loss: 0.3300 - accuracy: 0.8612 - val_loss: 0.3555 - val_accuracy: 0.8573\n",
      "Epoch 85/100\n",
      "536/536 [==============================] - 1s 1ms/step - loss: 0.3301 - accuracy: 0.8606 - val_loss: 0.3546 - val_accuracy: 0.8588\n",
      "Epoch 86/100\n",
      "536/536 [==============================] - 1s 1ms/step - loss: 0.3299 - accuracy: 0.8610 - val_loss: 0.3543 - val_accuracy: 0.8591\n",
      "Epoch 87/100\n",
      "536/536 [==============================] - 1s 1ms/step - loss: 0.3296 - accuracy: 0.8600 - val_loss: 0.3546 - val_accuracy: 0.8584\n",
      "Epoch 88/100\n",
      "536/536 [==============================] - 1s 1ms/step - loss: 0.3295 - accuracy: 0.8615 - val_loss: 0.3552 - val_accuracy: 0.8580\n",
      "Epoch 89/100\n",
      "536/536 [==============================] - 1s 1ms/step - loss: 0.3295 - accuracy: 0.8617 - val_loss: 0.3544 - val_accuracy: 0.8588\n",
      "Epoch 90/100\n",
      "536/536 [==============================] - 1s 1ms/step - loss: 0.3290 - accuracy: 0.8625 - val_loss: 0.3543 - val_accuracy: 0.8591\n",
      "Epoch 91/100\n",
      "536/536 [==============================] - 1s 1ms/step - loss: 0.3293 - accuracy: 0.8599 - val_loss: 0.3541 - val_accuracy: 0.8595\n",
      "Epoch 92/100\n",
      "536/536 [==============================] - 1s 1ms/step - loss: 0.3289 - accuracy: 0.8610 - val_loss: 0.3545 - val_accuracy: 0.8584\n",
      "Epoch 93/100\n",
      "536/536 [==============================] - 1s 1ms/step - loss: 0.3289 - accuracy: 0.8606 - val_loss: 0.3539 - val_accuracy: 0.8595\n",
      "Epoch 94/100\n",
      "536/536 [==============================] - 1s 1ms/step - loss: 0.3287 - accuracy: 0.8615 - val_loss: 0.3541 - val_accuracy: 0.8580\n",
      "Epoch 95/100\n",
      "536/536 [==============================] - 1s 1ms/step - loss: 0.3284 - accuracy: 0.8610 - val_loss: 0.3540 - val_accuracy: 0.8588\n",
      "Epoch 96/100\n",
      "536/536 [==============================] - 1s 1ms/step - loss: 0.3283 - accuracy: 0.8621 - val_loss: 0.3547 - val_accuracy: 0.8584\n",
      "Epoch 97/100\n",
      "536/536 [==============================] - 1s 1ms/step - loss: 0.3281 - accuracy: 0.8610 - val_loss: 0.3534 - val_accuracy: 0.8599\n",
      "Epoch 98/100\n",
      "536/536 [==============================] - 1s 1ms/step - loss: 0.3282 - accuracy: 0.8610 - val_loss: 0.3538 - val_accuracy: 0.8588\n",
      "Epoch 99/100\n",
      "536/536 [==============================] - 1s 1ms/step - loss: 0.3279 - accuracy: 0.8610 - val_loss: 0.3533 - val_accuracy: 0.8599\n",
      "Epoch 100/100\n",
      "536/536 [==============================] - 1s 1ms/step - loss: 0.3278 - accuracy: 0.8625 - val_loss: 0.3535 - val_accuracy: 0.8607\n",
      "dict_keys(['loss', 'accuracy', 'val_loss', 'val_accuracy'])\n"
     ]
    }
   ],
   "source": [
    "# Part 2 - Now let's make the ANN!\n",
    "\n",
    "# Initialising the ANN\n",
    "classifier = Sequential()\n",
    "\n",
    "# Adding the input layer and the first hidden layer\n",
    "classifier.add(Dense(6, kernel_initializer = 'he_uniform',activation='relu',input_dim = 11))\n",
    "\n",
    "# Adding the second hidden layer\n",
    "classifier.add(Dense(6, kernel_initializer = 'he_uniform',activation='relu'))\n",
    "# Adding the output layer\n",
    "classifier.add(Dense(1, kernel_initializer = 'glorot_uniform', activation = 'sigmoid'))\n",
    "\n",
    "# Compiling the ANN\n",
    "classifier.compile(optimizer = 'Adamax', loss = 'binary_crossentropy', metrics = ['accuracy'])\n",
    "\n",
    "# Fitting the ANN to the Training set\n",
    "model_history=classifier.fit(X_train, y_train,validation_split=0.33, batch_size = 10, epochs = 100)\n",
    "\n",
    "# list all data in history\n",
    "\n",
    "print(model_history.history.keys())"
   ]
  },
  {
   "cell_type": "code",
   "execution_count": 6,
   "id": "7919885b-8c70-4bab-b116-0b3a12fe5ffd",
   "metadata": {},
   "outputs": [
    {
     "data": {
      "image/png": "[encoded data removed]",
      "text/plain": [
       "<Figure size 640x480 with 1 Axes>"
      ]
     },
     "metadata": {},
     "output_type": "display_data"
    }
   ],
   "source": [
    "# summarize history for accuracy\n",
    "plt.plot(model_history.history['accuracy'])\n",
    "plt.plot(model_history.history['val_accuracy'])\n",
    "plt.title('model accuracy')\n",
    "plt.ylabel('accuracy')\n",
    "plt.xlabel('epoch')\n",
    "plt.legend(['train', 'test'], loc='upper left')\n",
    "plt.show()"
   ]
  },
  {
   "cell_type": "code",
   "execution_count": 7,
   "id": "a556d974-a318-4983-b244-72e3d09a2c32",
   "metadata": {},
   "outputs": [
    {
     "data": {
      "image/png": "[encoded data removed]",
      "text/plain": [
       "<Figure size 640x480 with 1 Axes>"
      ]
     },
     "metadata": {},
     "output_type": "display_data"
    }
   ],
   "source": [
    "# summarize history for loss\n",
    "plt.plot(model_history.history['loss'])\n",
    "plt.plot(model_history.history['val_loss'])\n",
    "plt.title('model loss')\n",
    "plt.ylabel('loss')\n",
    "plt.xlabel('epoch')\n",
    "plt.legend(['train', 'test'], loc='upper left')\n",
    "plt.show()"
   ]
  },
  {
   "cell_type": "code",
   "execution_count": 8,
   "id": "f15a9416-b6ec-4842-99c7-e2d248fe5cb0",
   "metadata": {},
   "outputs": [
    {
     "name": "stdout",
     "output_type": "stream",
     "text": [
      "63/63 [==============================] - 0s 564us/step\n"
     ]
    }
   ],
   "source": [
    "# Part 3 - Making the predictions and evaluating the model\n",
    "\n",
    "# Predicting the Test set results\n",
    "y_pred = classifier.predict(X_test)\n",
    "y_pred = (y_pred > 0.5)\n",
    "\n",
    "# Making the Confusion Matrix\n",
    "from sklearn.metrics import confusion_matrix\n",
    "cm = confusion_matrix(y_test, y_pred)\n",
    "\n",
    "# Calculate the Accuracy\n",
    "from sklearn.metrics import accuracy_score\n",
    "score=accuracy_score(y_pred,y_test)"
   ]
  },
  {
   "cell_type": "code",
   "execution_count": 9,
   "id": "afd40d16-7b5e-44e0-9e97-79b906693cf0",
   "metadata": {},
   "outputs": [
    {
     "data": {
      "text/plain": [
       "array([[1513,   82],\n",
       "       [ 193,  212]], dtype=int64)"
      ]
     },
     "execution_count": 9,
     "metadata": {},
     "output_type": "execute_result"
    }
   ],
   "source": [
    "cm"
   ]
  },
  {
   "cell_type": "code",
   "execution_count": 10,
   "id": "aaa691d1-f02c-436b-a3d9-a0bfb9ab8328",
   "metadata": {},
   "outputs": [
    {
     "data": {
      "text/plain": [
       "0.8625"
      ]
     },
     "execution_count": 10,
     "metadata": {},
     "output_type": "execute_result"
    }
   ],
   "source": [
    "score"
   ]
  },
  {
   "cell_type": "code",
   "execution_count": null,
   "id": "258ca0c0-0129-4eb7-8d22-5806692f71bc",
   "metadata": {},
   "outputs": [],
   "source": []
  }
 ],
 "metadata": {
  "kernelspec": {
   "display_name": "Python 3 (ipykernel)",
   "language": "python",
   "name": "python3"
  },
  "language_info": {
   "codemirror_mode": {
    "name": "ipython",
    "version": 3
   },
   "file_extension": ".py",
   "mimetype": "text/x-python",
   "name": "python",
   "nbconvert_exporter": "python",
   "pygments_lexer": "ipython3",
   "version": "3.9.12"
  }
 },
 "nbformat": 4,
 "nbformat_minor": 5
}
